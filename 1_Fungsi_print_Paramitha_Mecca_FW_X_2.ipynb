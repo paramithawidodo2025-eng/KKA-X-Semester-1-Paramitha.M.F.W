{
  "nbformat": 4,
  "nbformat_minor": 0,
  "metadata": {
    "colab": {
      "provenance": [],
      "authorship_tag": "ABX9TyPdh6ZlrRHy1WyidfGUKehW",
      "include_colab_link": true
    },
    "kernelspec": {
      "name": "python3",
      "display_name": "Python 3"
    },
    "language_info": {
      "name": "python"
    }
  },
  "cells": [
    {
      "cell_type": "markdown",
      "metadata": {
        "id": "view-in-github",
        "colab_type": "text"
      },
      "source": [
        "<a href=\"https://colab.research.google.com/github/paramithawidodo2025-eng/KKA-X-Semester-1-Paramitha.M.F.W/blob/main/1_Fungsi_print_Paramitha_Mecca_FW_X_2.ipynb\" target=\"_parent\"><img src=\"https://colab.research.google.com/assets/colab-badge.svg\" alt=\"Open In Colab\"/></a>"
      ]
    },
    {
      "cell_type": "markdown",
      "source": [
        "Nama: Paramitha Mecca Faustina Widodo\n",
        "\n",
        "Kelas: X-2\n",
        "\n",
        "Nomor absen: 28"
      ],
      "metadata": {
        "id": "IZNt-oVht0BD"
      }
    },
    {
      "cell_type": "code",
      "source": [],
      "metadata": {
        "id": "GCxgk-B-xG79"
      },
      "execution_count": null,
      "outputs": []
    },
    {
      "cell_type": "markdown",
      "source": [
        "#Menampilkan Teks Bebas (String)"
      ],
      "metadata": {
        "id": "I7re9FdMunzu"
      }
    },
    {
      "cell_type": "code",
      "source": [
        "print(\"Halo world!\")"
      ],
      "metadata": {
        "colab": {
          "base_uri": "https://localhost:8080/"
        },
        "id": "80t89vmYvNaz",
        "outputId": "81fbce5f-0cf9-4c99-ec25-9b54df380f9a"
      },
      "execution_count": null,
      "outputs": [
        {
          "output_type": "stream",
          "name": "stdout",
          "text": [
            "Halo world!\n"
          ]
        }
      ]
    },
    {
      "cell_type": "code",
      "source": [
        "print(\"Paramitha Mecca Faustina Widodo\")"
      ],
      "metadata": {
        "id": "F6UrMBxZwel4",
        "colab": {
          "base_uri": "https://localhost:8080/"
        },
        "outputId": "1db36585-32db-49f0-ce5d-45ec6708f6c7"
      },
      "execution_count": null,
      "outputs": [
        {
          "output_type": "stream",
          "name": "stdout",
          "text": [
            "Paramitha Mecca Faustina Widodo\n"
          ]
        }
      ]
    },
    {
      "cell_type": "markdown",
      "source": [
        "#Menampilkan Nilai Variabel"
      ],
      "metadata": {
        "id": "ekFJvmYoxQNO"
      }
    },
    {
      "cell_type": "code",
      "source": [
        "berat_badan = 40\n",
        "print(40)"
      ],
      "metadata": {
        "colab": {
          "base_uri": "https://localhost:8080/"
        },
        "id": "F03ELtYsxV56",
        "outputId": "18e3919d-6507-4f88-9a22-d2fb3f3ca6da"
      },
      "execution_count": null,
      "outputs": [
        {
          "output_type": "stream",
          "name": "stdout",
          "text": [
            "40\n"
          ]
        }
      ]
    },
    {
      "cell_type": "code",
      "source": [
        "Nama = \"Paramitha Mecca Faustina Widodo\"\n",
        "print(\"Paramitha Mecca Faustina Widodo\")"
      ],
      "metadata": {
        "colab": {
          "base_uri": "https://localhost:8080/"
        },
        "id": "mRfEKIK9xxV0",
        "outputId": "7e7f576f-4207-4a59-fcc3-504b69e438e3"
      },
      "execution_count": null,
      "outputs": [
        {
          "output_type": "stream",
          "name": "stdout",
          "text": [
            "Paramitha Mecca Faustina Widodo\n"
          ]
        }
      ]
    },
    {
      "cell_type": "code",
      "source": [
        "Usia = 15\n",
        "print(\"15\")"
      ],
      "metadata": {
        "colab": {
          "base_uri": "https://localhost:8080/"
        },
        "id": "1kaRk9WAyNCB",
        "outputId": "e4ea1981-ad56-4cfd-cea1-76a1443619be"
      },
      "execution_count": null,
      "outputs": [
        {
          "output_type": "stream",
          "name": "stdout",
          "text": [
            "15\n"
          ]
        }
      ]
    },
    {
      "cell_type": "markdown",
      "source": [
        "#Menampilkan Teks Bebas dan Nilai Variabel"
      ],
      "metadata": {
        "id": "RrOZzS0RyugN"
      }
    },
    {
      "cell_type": "code",
      "source": [
        "print(\"berat badan saya adalah \", berat_badan, \"Kg\")"
      ],
      "metadata": {
        "colab": {
          "base_uri": "https://localhost:8080/"
        },
        "id": "PZ3uj10kzDgv",
        "outputId": "9461fd30-76d6-43d4-c26a-da5bc7bd618c"
      },
      "execution_count": null,
      "outputs": [
        {
          "output_type": "stream",
          "name": "stdout",
          "text": [
            "berat badan saya adalah  40 Kg\n"
          ]
        }
      ]
    },
    {
      "cell_type": "code",
      "source": [
        "print(\"Perkenalkan nama saya\", Nama,\".\")"
      ],
      "metadata": {
        "colab": {
          "base_uri": "https://localhost:8080/"
        },
        "id": "Sds6_HNUzruH",
        "outputId": "446a73fe-b483-4326-de35-ffa43c6da78c"
      },
      "execution_count": null,
      "outputs": [
        {
          "output_type": "stream",
          "name": "stdout",
          "text": [
            "Perkenalkan nama saya Paramitha Mecca Faustina Widodo .\n"
          ]
        }
      ]
    },
    {
      "cell_type": "code",
      "source": [
        "print(\"Perkenalkan nama saya, \" + Nama + \".\")"
      ],
      "metadata": {
        "colab": {
          "base_uri": "https://localhost:8080/"
        },
        "id": "IcxO90Dx1Akb",
        "outputId": "c01fdf45-8fef-4238-c27e-fe5d3b921e78"
      },
      "execution_count": null,
      "outputs": [
        {
          "output_type": "stream",
          "name": "stdout",
          "text": [
            "Perkenalkan nama saya, Paramitha Mecca Faustina Widodo.\n"
          ]
        }
      ]
    },
    {
      "cell_type": "code",
      "source": [
        "print(\"berat badan saya,\" + str(berat_badan) + \"Kg.\")"
      ],
      "metadata": {
        "colab": {
          "base_uri": "https://localhost:8080/"
        },
        "id": "q2Lt3qta14E1",
        "outputId": "79f66024-900f-4ff5-c107-617382bd9c48"
      },
      "execution_count": null,
      "outputs": [
        {
          "output_type": "stream",
          "name": "stdout",
          "text": [
            "berat badan saya,40Kg.\n"
          ]
        }
      ]
    },
    {
      "cell_type": "code",
      "source": [
        "print(f\"Perkenalkan nama saya {Nama}.\")"
      ],
      "metadata": {
        "colab": {
          "base_uri": "https://localhost:8080/"
        },
        "id": "bxERjmgf26-9",
        "outputId": "1bba38cb-fc82-4670-9571-48b43d368bb7"
      },
      "execution_count": null,
      "outputs": [
        {
          "output_type": "stream",
          "name": "stdout",
          "text": [
            "Perkenalkan nama saya Paramitha Mecca Faustina Widodo.\n"
          ]
        }
      ]
    },
    {
      "cell_type": "code",
      "source": [
        "print(f\"berat badan saya {berat_badan}.\")"
      ],
      "metadata": {
        "colab": {
          "base_uri": "https://localhost:8080/"
        },
        "id": "QPJ5YXfN3Oar",
        "outputId": "179713f5-d240-45d5-b4a7-8c8bd825ab67"
      },
      "execution_count": null,
      "outputs": [
        {
          "output_type": "stream",
          "name": "stdout",
          "text": [
            "berat badan saya 40.\n"
          ]
        }
      ]
    },
    {
      "cell_type": "markdown",
      "source": [
        "#Escape Character"
      ],
      "metadata": {
        "id": "tXAmh8Rk4jec"
      }
    },
    {
      "cell_type": "code",
      "source": [
        "print(\"Nama: Paramitha Mecca Faustina Widodo\\nKelas: X.2\\nNo. Absen: 28\")"
      ],
      "metadata": {
        "colab": {
          "base_uri": "https://localhost:8080/"
        },
        "id": "hclqMc8H2FK9",
        "outputId": "0cad8745-5c38-449b-d038-bfc18b6b784f"
      },
      "execution_count": null,
      "outputs": [
        {
          "output_type": "stream",
          "name": "stdout",
          "text": [
            "Nama: Paramitha Mecca Faustina Widodo\n",
            "Kelas: X.2\n",
            "No. Absen: 28\n"
          ]
        }
      ]
    },
    {
      "cell_type": "code",
      "source": [
        "print(\"Nama: Paramitha Mecca Faustina Widodo\")\n",
        "print(\"Kelas: X.2\")\n",
        "print(\"No. Absen: 28\")"
      ],
      "metadata": {
        "colab": {
          "base_uri": "https://localhost:8080/"
        },
        "id": "be62PJoV2bN1",
        "outputId": "08629831-a41a-4a8e-92aa-37ae7d1b14fd"
      },
      "execution_count": null,
      "outputs": [
        {
          "output_type": "stream",
          "name": "stdout",
          "text": [
            "Nama: Paramitha Mecca Faustina Widodo\n",
            "Kelas: X.2\n",
            "No. Absen: 28\n"
          ]
        }
      ]
    },
    {
      "cell_type": "code",
      "source": [
        "print(\"\"\"Nama: Paramitha Mecca Faustina Widodo\n",
        "Kelas: X.2\n",
        "No. Absen: 28\"\"\")"
      ],
      "metadata": {
        "colab": {
          "base_uri": "https://localhost:8080/"
        },
        "id": "RgOedx1127wu",
        "outputId": "e74e30d4-a839-4a2a-a058-46c49c2d7c45"
      },
      "execution_count": null,
      "outputs": [
        {
          "output_type": "stream",
          "name": "stdout",
          "text": [
            "Nama: Paramitha Mecca Faustina Widodo\n",
            "Kelas: X.2\n",
            "No. Absen: 28\n"
          ]
        }
      ]
    },
    {
      "cell_type": "code",
      "source": [
        "print(\"Nama\\t\\t: Paramitha Mecca Faustina Widodo\\nKelas\\t\\t: X.2\\nNo. Absen\\t: 28\")"
      ],
      "metadata": {
        "colab": {
          "base_uri": "https://localhost:8080/"
        },
        "id": "FgDKNHRu6NLR",
        "outputId": "72cac2c5-b7f1-4252-f64f-3538562c076d"
      },
      "execution_count": null,
      "outputs": [
        {
          "output_type": "stream",
          "name": "stdout",
          "text": [
            "Nama\t\t: Paramitha Mecca Faustina Widodo\n",
            "Kelas\t\t: X.2\n",
            "No. Absen\t: 28\n"
          ]
        }
      ]
    },
    {
      "cell_type": "code",
      "source": [
        "print('Nama\\t\\t: Ja\\'far shodiq\\nKelas\\t\\t: X.2\\nNo. Absen\\t: 29')"
      ],
      "metadata": {
        "colab": {
          "base_uri": "https://localhost:8080/"
        },
        "id": "aO6IP34J4IIH",
        "outputId": "1de2a978-1a79-4f92-8730-40a9abf6f99e"
      },
      "execution_count": null,
      "outputs": [
        {
          "output_type": "stream",
          "name": "stdout",
          "text": [
            "Nama\t\t: Ja'far shodiq\n",
            "Kelas\t\t: X.2\n",
            "No. Absen\t: 29\n"
          ]
        }
      ]
    },
    {
      "cell_type": "code",
      "source": [
        "print(\"Nama\\t\\t: Ja'far shodiq\\nKelas\\t\\t: X.2\\nNo. Absen\\t: 29\")"
      ],
      "metadata": {
        "colab": {
          "base_uri": "https://localhost:8080/"
        },
        "id": "DhHY0zLm4hQW",
        "outputId": "55b3cd44-a5fd-431b-b326-3659ce0977a4"
      },
      "execution_count": null,
      "outputs": [
        {
          "output_type": "stream",
          "name": "stdout",
          "text": [
            "Nama\t\t: Ja'far shodiq\n",
            "Kelas\t\t: X.2\n",
            "No. Absen\t: 29\n"
          ]
        }
      ]
    },
    {
      "cell_type": "code",
      "source": [
        "print('Bu Shinta mengatakan \"Semua bisa dipelajari\"')"
      ],
      "metadata": {
        "colab": {
          "base_uri": "https://localhost:8080/"
        },
        "id": "FS1DzVNL4mwe",
        "outputId": "1fd1d36b-918d-416c-ae11-5bb175e5b6da"
      },
      "execution_count": null,
      "outputs": [
        {
          "output_type": "stream",
          "name": "stdout",
          "text": [
            "Bu Shinta mengatakan \"Semua bisa dipelajari\"\n"
          ]
        }
      ]
    },
    {
      "cell_type": "code",
      "source": [
        "print(\"Lokasi file tugas KKA: Local disk D:\\\\KKA\\\\Tugas\")"
      ],
      "metadata": {
        "colab": {
          "base_uri": "https://localhost:8080/"
        },
        "id": "LRrDOV1n4wEH",
        "outputId": "96200683-d65e-43d2-bff2-05f8eda02f8d"
      },
      "execution_count": null,
      "outputs": [
        {
          "output_type": "stream",
          "name": "stdout",
          "text": [
            "Lokasi file tugas KKA: Local disk D:\\KKA\\Tugas\n"
          ]
        }
      ]
    },
    {
      "cell_type": "code",
      "source": [
        "print(\"Jadwal Pelajaran Mingguan\")\n",
        "print(\"===============================\")\n",
        "print(\"Jam\\tSenin\\t\\tSelasa\\t\\tRabu\")\n",
        "print(\"Jam 1\\tMatematika\\tBahasa\\t\\tInformatika\")\n",
        "print(\"Jam 2\\tBahasa Ing.\\tSejarah\\t\\tMa\\'rifatullah\")\n",
        "print(\"Jam 3\\tInformatika\\tOlahraga\\tBiologi\")"
      ],
      "metadata": {
        "colab": {
          "base_uri": "https://localhost:8080/"
        },
        "id": "ClqjlsPg7SQt",
        "outputId": "7deddc60-684c-42bd-d399-5ac65769fe61"
      },
      "execution_count": null,
      "outputs": [
        {
          "output_type": "stream",
          "name": "stdout",
          "text": [
            "Jadwal Pelajaran Mingguan\n",
            "===============================\n",
            "Jam\tSenin\t\tSelasa\t\tRabu\n",
            "Jam 1\tMatematika\tBahasa\t\tInformatika\n",
            "Jam 2\tBahasa Ing.\tSejarah\t\tMa'rifatullah\n",
            "Jam 3\tInformatika\tOlahraga\tBiologi\n"
          ]
        }
      ]
    },
    {
      "cell_type": "markdown",
      "source": [
        "#Parameter Fungsi print"
      ],
      "metadata": {
        "id": "AT7SnCyT0_HY"
      }
    },
    {
      "cell_type": "code",
      "source": [
        "nama_siswa_1 = \"Jielo\"\n",
        "\n",
        "nama_siswa_2 = \"Aida\"\n",
        "\n",
        "nama_siswa_3 = \"Dani\"\n",
        "\n",
        "print(nama_siswa_1, end=\"-\")\n",
        "\n",
        "print(nama_siswa_2, end=\"-\")\n",
        "\n",
        "print(nama_siswa_3)"
      ],
      "metadata": {
        "colab": {
          "base_uri": "https://localhost:8080/"
        },
        "id": "ks42tVD95BsJ",
        "outputId": "69f30e28-ef28-4d3b-a890-4ed114d46777"
      },
      "execution_count": null,
      "outputs": [
        {
          "output_type": "stream",
          "name": "stdout",
          "text": [
            "Jielo-Aida-Dani\n"
          ]
        }
      ]
    },
    {
      "cell_type": "code",
      "source": [
        "nama_siswa_1 =\"Jielo\"\n",
        "nama_siswa_2 =\"Aida\"\n",
        "nama_siswa_3 =\"Dani\"\n",
        "nama_siswa_4 =\"Nurul\"\n",
        "print(nama_siswa_4,end=\"/\")\n",
        "print(nama_siswa_2,end=\"/\")\n",
        "print(nama_siswa_1,end=\"/\")\n",
        "print(nama_siswa_3)"
      ],
      "metadata": {
        "colab": {
          "base_uri": "https://localhost:8080/"
        },
        "id": "PT4X9eJJ1XSC",
        "outputId": "f07cb8f7-aa83-4637-a2e0-c83928e7f176"
      },
      "execution_count": null,
      "outputs": [
        {
          "output_type": "stream",
          "name": "stdout",
          "text": [
            "Nurul/Aida/Jielo/Dani\n"
          ]
        }
      ]
    },
    {
      "cell_type": "code",
      "source": [
        "nama_siswa_5 = \"Hasbi\"\n",
        "nama_siswa_6 = \"Habibi\"\n",
        "nama_siswa_7 = \"Rendra\"\n",
        "nama_siswa_8 = \"Naufal\"\n",
        "\n",
        "print(nama_siswa_5, nama_siswa_8, nama_siswa_7, nama_siswa_6,nama_siswa_8,sep=\"*\")"
      ],
      "metadata": {
        "colab": {
          "base_uri": "https://localhost:8080/"
        },
        "id": "4ArG4A4y4RO5",
        "outputId": "1c2cfa0e-fdbb-4b8b-8aa8-6b9bef9e80e7"
      },
      "execution_count": null,
      "outputs": [
        {
          "output_type": "stream",
          "name": "stdout",
          "text": [
            "Hasbi*Naufal*Rendra*Habibi*Naufal\n"
          ]
        }
      ]
    },
    {
      "cell_type": "code",
      "source": [
        "print('Bu Shinta berkata,\"Berikut adalah daftar piket harian kelas X.2 yang disimpan di file D:\\\\MAN Demak\\\\Jadwal Piket.\"')\n",
        "print(\"Senin\\tSelasa\\tRabu\")\n",
        "print(\"Jielo\\tHasbi\\tNaufal\")\n",
        "print(\"Azam\\tAida\\tNurul\")"
      ],
      "metadata": {
        "colab": {
          "base_uri": "https://localhost:8080/"
        },
        "id": "jS15Aaa-7uGw",
        "outputId": "aa3e8d2f-141a-4551-cfb7-b42c36eaaba2"
      },
      "execution_count": null,
      "outputs": [
        {
          "output_type": "stream",
          "name": "stdout",
          "text": [
            "Bu Shinta berkata,\"Berikut adalah daftar piket harian kelas X.2 yang disimpan di file D:\\MAN Demak\\Jadwal Piket.\"\n",
            "Senin\tSelasa\tRabu\n",
            "Jielo\tHasbi\tNaufal\n",
            "Azam\tAida\tNurul\n"
          ]
        }
      ]
    }
  ]
}